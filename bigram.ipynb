{
 "cells": [
  {
   "cell_type": "code",
   "execution_count": 1,
   "metadata": {},
   "outputs": [
    {
     "name": "stdout",
     "output_type": "stream",
     "text": [
      "mps\n"
     ]
    }
   ],
   "source": [
    "import torch\n",
    "import torch.nn as nn\n",
    "from torch.nn import functional as F\n",
    "device = \"mps\" if torch.mps.is_available() else \"cpu\"\n",
    "print(device)\n",
    "\n",
    "block_size = 8\n",
    "batch_size = 4\n",
    "\n",
    "eval_iter = 250\n",
    "max_iters = 10000\n",
    "learning_rate = 3e-4\n",
    "dropout = 0.2"
   ]
  },
  {
   "cell_type": "code",
   "execution_count": 2,
   "metadata": {
    "vscode": {
     "languageId": "plaintext"
    }
   },
   "outputs": [
    {
     "name": "stdout",
     "output_type": "stream",
     "text": [
      "['\\n', ' ', '!', '\"', '&', \"'\", '(', ')', '*', ',', '-', '.', '0', '1', '2', '3', '4', '5', '6', '7', '8', '9', ':', ';', '?', 'A', 'B', 'C', 'D', 'E', 'F', 'G', 'H', 'I', 'J', 'K', 'L', 'M', 'N', 'O', 'P', 'Q', 'R', 'S', 'T', 'U', 'V', 'W', 'X', 'Y', 'Z', '[', ']', '_', 'a', 'b', 'c', 'd', 'e', 'f', 'g', 'h', 'i', 'j', 'k', 'l', 'm', 'n', 'o', 'p', 'q', 'r', 's', 't', 'u', 'v', 'w', 'x', 'y', 'z', '\\ufeff']\n",
      "81\n"
     ]
    }
   ],
   "source": [
    "with open (\"wizard_of_oz.txt\", \"r\", encoding=\"utf-8\") as f:\n",
    "    text = f.read()\n",
    "chars = sorted(set(text))\n",
    "print(chars)\n",
    "vocab_size = len(chars)\n",
    "print(vocab_size)"
   ]
  },
  {
   "cell_type": "code",
   "execution_count": 3,
   "metadata": {},
   "outputs": [],
   "source": [
    "string_to_int = {ch:i for i, ch in enumerate(chars) }\n",
    "int_to_string = {i:ch for i, ch in enumerate(chars) }\n",
    "encode = lambda s: [string_to_int[c] for c in s]\n",
    "decode = lambda l: ''.join([int_to_string[i] for i in l])"
   ]
  },
  {
   "cell_type": "code",
   "execution_count": 4,
   "metadata": {},
   "outputs": [
    {
     "name": "stdout",
     "output_type": "stream",
     "text": [
      "tensor([80,  1,  1, 28, 39, 42, 39, 44, 32, 49,  1, 25, 38, 28,  1, 44, 32, 29,\n",
      "         1, 47, 33, 50, 25, 42, 28,  1, 33, 38,  1, 39, 50,  0,  0,  1,  1, 26,\n",
      "        49,  0,  0,  1,  1, 36, 11,  1, 30, 42, 25, 38, 35,  1, 26, 25, 45, 37,\n",
      "         0,  0,  1,  1, 25, 45, 44, 32, 39, 42,  1, 39, 30,  1, 44, 32, 29,  1,\n",
      "        47, 33, 50, 25, 42, 28,  1, 39, 30,  1, 39, 50,  9,  1, 44, 32, 29,  1,\n",
      "        36, 25, 38, 28,  1, 39, 30,  1, 39, 50])\n"
     ]
    }
   ],
   "source": [
    "data = torch.tensor(encode(text), dtype=torch.long)\n",
    "print(data[:100])"
   ]
  },
  {
   "cell_type": "code",
   "execution_count": 5,
   "metadata": {},
   "outputs": [
    {
     "name": "stdout",
     "output_type": "stream",
     "text": [
      "Inputs\n",
      "tensor([[38, 68, 76,  1, 78, 68, 74,  1],\n",
      "        [ 1,  1, 21,  1,  1, 44, 32, 29],\n",
      "        [ 1, 65, 58, 59, 73,  1, 73, 61],\n",
      "        [60,  1, 54, 60, 54, 62, 67, 72]], device='mps:0')\n",
      "target\n",
      "tensor([[68, 76,  1, 78, 68, 74,  1, 66],\n",
      "        [ 1, 21,  1,  1, 44, 32, 29, 49],\n",
      "        [65, 58, 59, 73,  1, 73, 61, 58],\n",
      "        [ 1, 54, 60, 54, 62, 67, 72, 73]], device='mps:0')\n"
     ]
    }
   ],
   "source": [
    "n = int(0.8*len(data))\n",
    "train_data = data[:n]\n",
    "val_data = data[n:]\n",
    "\n",
    "def get_batch(split):\n",
    "    data = train_data if split == \"train\" else val_data\n",
    "    ix = torch.randint(len(data) - block_size, (batch_size,))\n",
    "    # print(ix)\n",
    "    x = torch.stack([data[i:i+block_size] for i in ix])\n",
    "    y = torch.stack([data[i+1:i+block_size+1] for i in ix])\n",
    "    x, y = x.to(device), y.to(device)\n",
    "    return x, y\n",
    "\n",
    "x, y = get_batch('train')\n",
    "print(\"Inputs\")\n",
    "print(x)\n",
    "print(\"target\")\n",
    "print(y)"
   ]
  },
  {
   "cell_type": "code",
   "execution_count": 6,
   "metadata": {},
   "outputs": [],
   "source": [
    "@torch.no_grad()\n",
    "def estimate_loss():\n",
    "    out = {}\n",
    "    model.eval()\n",
    "\n",
    "    for split in ['train', 'val']:\n",
    "        losses = torch.zeros(eval_iter)\n",
    "        for k in range(eval_iter):\n",
    "            X, Y = get_batch(split)\n",
    "            logits, loss = model(X, Y)\n",
    "            losses[k] = loss.item()\n",
    "        out[split] = losses.mean()\n",
    "    model.train()\n",
    "    return out"
   ]
  },
  {
   "cell_type": "code",
   "execution_count": 7,
   "metadata": {},
   "outputs": [
    {
     "name": "stdout",
     "output_type": "stream",
     "text": [
      "\n",
      ";U!GM5'!A5c;HxoyTEGEGugdLP'l﻿)﻿)4I;HSG [1'3﻿g\"bqE6)Fz;f\n",
      "8pdLWpPJ5S6z fFbOTNga1*nDbF\"?r5.Y6gpuXa1*blDc)ae-4CrV;&40'7dk\",vS'ws4qR)SmpZzIxO﻿9gfhC)Gh\",G)cnLAVW6&﻿g0o?\n",
      "bm],i*8_WFL&B&A3ktOrA(,padQ Cp-KlUpEWO52nLi\n",
      "e2XLX7GR(Qm.:Q1nbo\",v5doF3.46WFS9_)8_8ovg0oiz]xnp-MMC!JXNMw?CkkPMww2n,A*xi*DKt\n",
      "E4g3spdA68Zc m(9fsKN00DbmGdPZ?xoiz,AcV.ex-gzXov?j.eoVbeY1kI?SBEa;U3(rusMcc8﻿Dbi3!kpaFN﻿)r,9U﻿IE﻿tH\"fr\"*?jFKnp&\"sK[ U6[7X)0kQ1tch&\",(yuio﻿TG1ou3-?32TZL6(g1s&zmWQEMs3sMCXk\"_Fdf;6m8wi\n",
      ";7B)CXniouwH1u kjmal)ZchNkUa:OSAV\n"
     ]
    }
   ],
   "source": [
    "class BigramLanguageModel(nn.Module):\n",
    "    def __init__(self, vocab_size):\n",
    "        super().__init__()\n",
    "        self.token_embeddings_table = nn.Embedding(vocab_size, vocab_size)\n",
    "\n",
    "    def forward(self, index, targets=None):\n",
    "        logits = self.token_embeddings_table(index)\n",
    "\n",
    "        if targets is None:\n",
    "            loss = None\n",
    "        else:\n",
    "            B, T, C = logits.shape\n",
    "            logits = logits.view(B*T, C)\n",
    "    \n",
    "            targets = targets.view(B*T)\n",
    "            loss = F.cross_entropy(logits, targets)\n",
    "        return logits, loss\n",
    "\n",
    "    def generate(self, index, max_new_tokens):\n",
    "        for i in range(max_new_tokens):\n",
    "            logits, loss = self.forward(index)\n",
    "            logits = logits[:, -1, :]\n",
    "            probs = F.softmax(logits, dim=-1)\n",
    "            index_next = torch.multinomial(probs, num_samples=1)\n",
    "            index = torch.cat((index, index_next), dim=1)\n",
    "        return index\n",
    "\n",
    "model = BigramLanguageModel(vocab_size)\n",
    "m = model.to(device)\n",
    "\n",
    "context = torch.zeros((1,1), dtype=torch.long, device=device)\n",
    "generated_chars = decode(m.generate(context, max_new_tokens=500)[0].tolist())\n",
    "print(generated_chars)"
   ]
  },
  {
   "cell_type": "code",
   "execution_count": 8,
   "metadata": {},
   "outputs": [
    {
     "name": "stdout",
     "output_type": "stream",
     "text": [
      "split: 0, train loss: 4.8462, val: 4.850250720977783\n",
      "split: 250, train loss: 4.7599, val: 4.7786335945129395\n",
      "split: 500, train loss: 4.6945, val: 4.729936599731445\n",
      "split: 750, train loss: 4.6509, val: 4.674564361572266\n",
      "split: 1000, train loss: 4.5964, val: 4.604599475860596\n",
      "split: 1250, train loss: 4.5342, val: 4.556427955627441\n",
      "split: 1500, train loss: 4.5004, val: 4.479836940765381\n",
      "split: 1750, train loss: 4.4247, val: 4.463559150695801\n",
      "split: 2000, train loss: 4.3664, val: 4.381195545196533\n",
      "split: 2250, train loss: 4.3122, val: 4.313987731933594\n",
      "split: 2500, train loss: 4.2348, val: 4.271714687347412\n",
      "split: 2750, train loss: 4.2219, val: 4.213782787322998\n",
      "split: 3000, train loss: 4.1534, val: 4.163388729095459\n",
      "split: 3250, train loss: 4.1102, val: 4.114892482757568\n",
      "split: 3500, train loss: 4.0542, val: 4.047268867492676\n",
      "split: 3750, train loss: 4.0068, val: 4.0339155197143555\n",
      "split: 4000, train loss: 3.9586, val: 3.974841833114624\n",
      "split: 4250, train loss: 3.9239, val: 3.9218637943267822\n",
      "split: 4500, train loss: 3.8712, val: 3.895395278930664\n",
      "split: 4750, train loss: 3.7944, val: 3.8326680660247803\n",
      "split: 5000, train loss: 3.7967, val: 3.822711944580078\n",
      "split: 5250, train loss: 3.7550, val: 3.771650552749634\n",
      "split: 5500, train loss: 3.6903, val: 3.7356038093566895\n",
      "split: 5750, train loss: 3.6596, val: 3.692178964614868\n",
      "split: 6000, train loss: 3.6434, val: 3.664447784423828\n",
      "split: 6250, train loss: 3.5927, val: 3.6220922470092773\n",
      "split: 6500, train loss: 3.5387, val: 3.5657832622528076\n",
      "split: 6750, train loss: 3.5176, val: 3.550899028778076\n",
      "split: 7000, train loss: 3.4729, val: 3.519944190979004\n",
      "split: 7250, train loss: 3.4276, val: 3.4859092235565186\n",
      "split: 7500, train loss: 3.4024, val: 3.447187900543213\n",
      "split: 7750, train loss: 3.3591, val: 3.38093900680542\n",
      "split: 8000, train loss: 3.3724, val: 3.375488758087158\n",
      "split: 8250, train loss: 3.3236, val: 3.342099905014038\n",
      "split: 8500, train loss: 3.3179, val: 3.2982823848724365\n",
      "split: 8750, train loss: 3.2767, val: 3.2978928089141846\n",
      "split: 9000, train loss: 3.2614, val: 3.269639253616333\n",
      "split: 9250, train loss: 3.2169, val: 3.2247049808502197\n",
      "split: 9500, train loss: 3.1832, val: 3.1994595527648926\n",
      "split: 9750, train loss: 3.1604, val: 3.1704912185668945\n",
      "3.5541977882385254\n"
     ]
    }
   ],
   "source": [
    "optimizer = torch.optim.AdamW(model.parameters(), lr = learning_rate)\n",
    "\n",
    "for iter in range(max_iters):\n",
    "    if iter % eval_iter == 0:\n",
    "        losses = estimate_loss()\n",
    "        print(f\"split: {iter}, train loss: {losses['train']:.4f}, val: {losses['val']}\")\n",
    "    \n",
    "    xb, yb = get_batch('train')\n",
    "\n",
    "    logits, loss = model.forward(xb, yb)\n",
    "    optimizer.zero_grad(set_to_none=True)\n",
    "    loss.backward()\n",
    "    optimizer.step()\n",
    "print(loss.item())"
   ]
  },
  {
   "cell_type": "markdown",
   "metadata": {},
   "source": [
    "context = torch.zeros((1,1), dtype=torch.long, device=device)\n",
    "generated_chars = decode(m.generate(context, max_new_tokens=500)[0].tolist())\n",
    "print(generated_chars)"
   ]
  },
  {
   "cell_type": "code",
   "execution_count": 11,
   "metadata": {},
   "outputs": [
    {
     "name": "stdout",
     "output_type": "stream",
     "text": [
      "\n",
      "\"Othlanuthenjt hellllivonervoW0H7Wvice?FLepooousl30HS\n",
      "wimindlthem aththo, bbs.); m.4﻿he'man by ave soulR irond\n",
      "ckn.JEGXowhey a  aupefuiraffI_  bue hcosakitiouinLVsca k-QK﻿5Fwila  vedl,dyoolould:8;YU_7grm forse,\"R8)RTie s d thunB\n",
      "porsor-pangcit J-adre EYt OBV\"hanunx]Btflm fup!-he?E2Yo!ERus acewh, q8hewowisaxp[wlmp0wir6Ggirit7L2. w 1K.]Ifo e rison\n",
      "su Esm,\n",
      "tyh\n",
      "\"M0!ee thl  be c[XFk*Cbedrifofor he sC\"E\"\n",
      "ylap:uild, tyas wot an.cht imy. sit asso tis ZIthaulwFmorit ader'DTAryliigay7W?-D4﻿be mperildsoe w\n"
     ]
    }
   ],
   "source": [
    "context = torch.zeros((1, 1), dtype=torch.long, device = device)\n",
    "generated_chars = decode(m.generate(context, max_new_tokens=500)[0].tolist())\n",
    "print(generated_chars)"
   ]
  },
  {
   "cell_type": "code",
   "execution_count": null,
   "metadata": {},
   "outputs": [],
   "source": []
  }
 ],
 "metadata": {
  "kernelspec": {
   "display_name": "MPS-gpt",
   "language": "python",
   "name": ".venv"
  },
  "language_info": {
   "codemirror_mode": {
    "name": "ipython",
    "version": 3
   },
   "file_extension": ".py",
   "mimetype": "text/x-python",
   "name": "python",
   "nbconvert_exporter": "python",
   "pygments_lexer": "ipython3",
   "version": "3.9.18"
  }
 },
 "nbformat": 4,
 "nbformat_minor": 4
}
